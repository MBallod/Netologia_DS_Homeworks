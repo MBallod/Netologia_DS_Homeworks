{
 "cells": [
  {
   "cell_type": "code",
   "execution_count": 160,
   "metadata": {},
   "outputs": [],
   "source": [
    "import pandas as pd\n",
    "import matplotlib.pyplot as plt\n",
    "import datetime as dt\n",
    "\n",
    "from pylab import rcParams\n",
    "rcParams['figure.figsize'] = 12, 10## дюймы"
   ]
  },
  {
   "cell_type": "markdown",
   "metadata": {},
   "source": [
    "Загрузим таблицу с ИПЦ"
   ]
  },
  {
   "cell_type": "code",
   "execution_count": 3,
   "metadata": {},
   "outputs": [],
   "source": [
    "cpi = pd.read_csv('russia.index.cpi (statbureau.org).csv')"
   ]
  },
  {
   "cell_type": "code",
   "execution_count": 108,
   "metadata": {},
   "outputs": [
    {
     "data": {
      "text/html": [
       "<div>\n",
       "<style scoped>\n",
       "    .dataframe tbody tr th:only-of-type {\n",
       "        vertical-align: middle;\n",
       "    }\n",
       "\n",
       "    .dataframe tbody tr th {\n",
       "        vertical-align: top;\n",
       "    }\n",
       "\n",
       "    .dataframe thead th {\n",
       "        text-align: right;\n",
       "    }\n",
       "</style>\n",
       "<table border=\"1\" class=\"dataframe\">\n",
       "  <thead>\n",
       "    <tr style=\"text-align: right;\">\n",
       "      <th></th>\n",
       "      <th>Год</th>\n",
       "      <th>Январь</th>\n",
       "      <th>Февраль</th>\n",
       "      <th>Март</th>\n",
       "      <th>Апрель</th>\n",
       "      <th>Май</th>\n",
       "      <th>Июнь</th>\n",
       "      <th>Июль</th>\n",
       "      <th>Август</th>\n",
       "      <th>Сентябрь</th>\n",
       "      <th>Октябрь</th>\n",
       "      <th>Ноябрь</th>\n",
       "      <th>Декабрь</th>\n",
       "    </tr>\n",
       "  </thead>\n",
       "  <tbody>\n",
       "    <tr>\n",
       "      <th>0</th>\n",
       "      <td>2019</td>\n",
       "      <td>101.01</td>\n",
       "      <td>100.44</td>\n",
       "      <td>100.32</td>\n",
       "      <td>100.29</td>\n",
       "      <td>100.34</td>\n",
       "      <td>100.04</td>\n",
       "      <td>100.20</td>\n",
       "      <td>99.76</td>\n",
       "      <td>99.84</td>\n",
       "      <td>100.13</td>\n",
       "      <td>100.28</td>\n",
       "      <td>100.36</td>\n",
       "    </tr>\n",
       "    <tr>\n",
       "      <th>1</th>\n",
       "      <td>2020</td>\n",
       "      <td>100.40</td>\n",
       "      <td>100.33</td>\n",
       "      <td>100.55</td>\n",
       "      <td>100.83</td>\n",
       "      <td>100.27</td>\n",
       "      <td>100.22</td>\n",
       "      <td>100.35</td>\n",
       "      <td>99.96</td>\n",
       "      <td>99.93</td>\n",
       "      <td>100.43</td>\n",
       "      <td>100.71</td>\n",
       "      <td>100.83</td>\n",
       "    </tr>\n",
       "    <tr>\n",
       "      <th>2</th>\n",
       "      <td>2021</td>\n",
       "      <td>100.67</td>\n",
       "      <td>100.78</td>\n",
       "      <td>100.66</td>\n",
       "      <td>100.58</td>\n",
       "      <td>100.74</td>\n",
       "      <td>100.69</td>\n",
       "      <td>100.31</td>\n",
       "      <td>100.17</td>\n",
       "      <td>100.60</td>\n",
       "      <td>101.11</td>\n",
       "      <td>100.96</td>\n",
       "      <td>100.82</td>\n",
       "    </tr>\n",
       "    <tr>\n",
       "      <th>3</th>\n",
       "      <td>2022</td>\n",
       "      <td>100.99</td>\n",
       "      <td>101.17</td>\n",
       "      <td>107.61</td>\n",
       "      <td>101.56</td>\n",
       "      <td>100.12</td>\n",
       "      <td>99.65</td>\n",
       "      <td>99.61</td>\n",
       "      <td>99.48</td>\n",
       "      <td>100.05</td>\n",
       "      <td>100.18</td>\n",
       "      <td>100.37</td>\n",
       "      <td>100.78</td>\n",
       "    </tr>\n",
       "    <tr>\n",
       "      <th>4</th>\n",
       "      <td>2023</td>\n",
       "      <td>100.84</td>\n",
       "      <td>100.46</td>\n",
       "      <td>100.37</td>\n",
       "      <td>100.38</td>\n",
       "      <td>100.31</td>\n",
       "      <td>100.37</td>\n",
       "      <td>100.63</td>\n",
       "      <td>100.28</td>\n",
       "      <td>100.87</td>\n",
       "      <td>100.83</td>\n",
       "      <td>NaN</td>\n",
       "      <td>NaN</td>\n",
       "    </tr>\n",
       "  </tbody>\n",
       "</table>\n",
       "</div>"
      ],
      "text/plain": [
       "    Год   Январь   Февраль    Март   Апрель     Май    Июнь    Июль   Август  \\\n",
       "0  2019   101.01    100.44  100.32   100.29  100.34  100.04  100.20    99.76   \n",
       "1  2020   100.40    100.33  100.55   100.83  100.27  100.22  100.35    99.96   \n",
       "2  2021   100.67    100.78  100.66   100.58  100.74  100.69  100.31   100.17   \n",
       "3  2022   100.99    101.17  107.61   101.56  100.12   99.65   99.61    99.48   \n",
       "4  2023   100.84    100.46  100.37   100.38  100.31  100.37  100.63   100.28   \n",
       "\n",
       "    Сентябрь   Октябрь   Ноябрь   Декабрь  \n",
       "0      99.84    100.13   100.28    100.36  \n",
       "1      99.93    100.43   100.71    100.83  \n",
       "2     100.60    101.11   100.96    100.82  \n",
       "3     100.05    100.18   100.37    100.78  \n",
       "4     100.87    100.83      NaN       NaN  "
      ]
     },
     "execution_count": 108,
     "metadata": {},
     "output_type": "execute_result"
    }
   ],
   "source": [
    "new_cpi = cpi[-5:].reset_index(drop= True).copy()\n",
    "new_cpi.head()"
   ]
  },
  {
   "cell_type": "markdown",
   "metadata": {},
   "source": [
    "Таблицу надо перевернуть, чтобы годы и месяцы были в строках. Иначе будет сложно построить график. Конечно, нужно было воспользоваться встроенными функцимия типа slack(). Но так как кремени на итоговое задание дано крайне мало и его не хватило, чтобы найти изящное pandas решение, а таблицы не очень большие, то ноколхозим цикл. "
   ]
  },
  {
   "cell_type": "code",
   "execution_count": 142,
   "metadata": {},
   "outputs": [],
   "source": [
    "new_cpi = cpi[-5:].reset_index(drop = True).copy()\n",
    "new_cpi.columns = range(0, 13)\n",
    "#cpi.loc[0][1] # первая [] - номер строки, вторая [] - номер столбца не считая индекс\n",
    "#new_cpi.stack()\n",
    "row_in_loop = 0\n",
    "cpi_in_column = pd.DataFrame(columns = ['year_', 'month_', 'cpi_value'], index=range(1, new_cpi.size))\n",
    "for row_ in range(1,len(new_cpi)+1):\n",
    "    for column_ in range(1, len(new_cpi.columns)):\n",
    "          row_in_loop +=1\n",
    "          \n",
    "          cpi_in_column.loc[row_in_loop]['year_'] = 2018 + row_\n",
    "          cpi_in_column.loc[row_in_loop]['month_'] = column_\n",
    "          cpi_in_column.loc[row_in_loop]['cpi_value'] = new_cpi.loc[row_-1][column_]\n",
    "          "
   ]
  },
  {
   "cell_type": "markdown",
   "metadata": {},
   "source": [
    "Вроде сработало"
   ]
  },
  {
   "cell_type": "code",
   "execution_count": 199,
   "metadata": {},
   "outputs": [
    {
     "data": {
      "text/html": [
       "<div>\n",
       "<style scoped>\n",
       "    .dataframe tbody tr th:only-of-type {\n",
       "        vertical-align: middle;\n",
       "    }\n",
       "\n",
       "    .dataframe tbody tr th {\n",
       "        vertical-align: top;\n",
       "    }\n",
       "\n",
       "    .dataframe thead th {\n",
       "        text-align: right;\n",
       "    }\n",
       "</style>\n",
       "<table border=\"1\" class=\"dataframe\">\n",
       "  <thead>\n",
       "    <tr style=\"text-align: right;\">\n",
       "      <th></th>\n",
       "      <th>year_</th>\n",
       "      <th>month_</th>\n",
       "      <th>cpi_value</th>\n",
       "      <th>date</th>\n",
       "    </tr>\n",
       "  </thead>\n",
       "  <tbody>\n",
       "    <tr>\n",
       "      <th>1</th>\n",
       "      <td>2019</td>\n",
       "      <td>1</td>\n",
       "      <td>101.01</td>\n",
       "      <td>2019-01-01</td>\n",
       "    </tr>\n",
       "    <tr>\n",
       "      <th>2</th>\n",
       "      <td>2019</td>\n",
       "      <td>2</td>\n",
       "      <td>100.44</td>\n",
       "      <td>2019-02-01</td>\n",
       "    </tr>\n",
       "    <tr>\n",
       "      <th>3</th>\n",
       "      <td>2019</td>\n",
       "      <td>3</td>\n",
       "      <td>100.32</td>\n",
       "      <td>2019-03-01</td>\n",
       "    </tr>\n",
       "    <tr>\n",
       "      <th>4</th>\n",
       "      <td>2019</td>\n",
       "      <td>4</td>\n",
       "      <td>100.29</td>\n",
       "      <td>2019-04-01</td>\n",
       "    </tr>\n",
       "    <tr>\n",
       "      <th>5</th>\n",
       "      <td>2019</td>\n",
       "      <td>5</td>\n",
       "      <td>100.34</td>\n",
       "      <td>2019-05-01</td>\n",
       "    </tr>\n",
       "    <tr>\n",
       "      <th>6</th>\n",
       "      <td>2019</td>\n",
       "      <td>6</td>\n",
       "      <td>100.04</td>\n",
       "      <td>2019-06-01</td>\n",
       "    </tr>\n",
       "    <tr>\n",
       "      <th>7</th>\n",
       "      <td>2019</td>\n",
       "      <td>7</td>\n",
       "      <td>100.2</td>\n",
       "      <td>2019-07-01</td>\n",
       "    </tr>\n",
       "    <tr>\n",
       "      <th>8</th>\n",
       "      <td>2019</td>\n",
       "      <td>8</td>\n",
       "      <td>99.76</td>\n",
       "      <td>2019-08-01</td>\n",
       "    </tr>\n",
       "    <tr>\n",
       "      <th>9</th>\n",
       "      <td>2019</td>\n",
       "      <td>9</td>\n",
       "      <td>99.84</td>\n",
       "      <td>2019-09-01</td>\n",
       "    </tr>\n",
       "    <tr>\n",
       "      <th>10</th>\n",
       "      <td>2019</td>\n",
       "      <td>10</td>\n",
       "      <td>100.13</td>\n",
       "      <td>2019-10-01</td>\n",
       "    </tr>\n",
       "  </tbody>\n",
       "</table>\n",
       "</div>"
      ],
      "text/plain": [
       "   year_ month_ cpi_value       date\n",
       "1   2019      1    101.01 2019-01-01\n",
       "2   2019      2    100.44 2019-02-01\n",
       "3   2019      3    100.32 2019-03-01\n",
       "4   2019      4    100.29 2019-04-01\n",
       "5   2019      5    100.34 2019-05-01\n",
       "6   2019      6    100.04 2019-06-01\n",
       "7   2019      7     100.2 2019-07-01\n",
       "8   2019      8     99.76 2019-08-01\n",
       "9   2019      9     99.84 2019-09-01\n",
       "10  2019     10    100.13 2019-10-01"
      ]
     },
     "execution_count": 199,
     "metadata": {},
     "output_type": "execute_result"
    }
   ],
   "source": [
    "cpi_in_column.head(10)"
   ]
  },
  {
   "cell_type": "markdown",
   "metadata": {},
   "source": [
    "Загрузим таблицу с курсом доллара"
   ]
  },
  {
   "cell_type": "code",
   "execution_count": 221,
   "metadata": {},
   "outputs": [],
   "source": [
    "usd_rub = pd.read_excel('RC_F30_11_2018_T02_12_2023.xlsx')"
   ]
  },
  {
   "cell_type": "code",
   "execution_count": 222,
   "metadata": {},
   "outputs": [
    {
     "data": {
      "text/html": [
       "<div>\n",
       "<style scoped>\n",
       "    .dataframe tbody tr th:only-of-type {\n",
       "        vertical-align: middle;\n",
       "    }\n",
       "\n",
       "    .dataframe tbody tr th {\n",
       "        vertical-align: top;\n",
       "    }\n",
       "\n",
       "    .dataframe thead th {\n",
       "        text-align: right;\n",
       "    }\n",
       "</style>\n",
       "<table border=\"1\" class=\"dataframe\">\n",
       "  <thead>\n",
       "    <tr style=\"text-align: right;\">\n",
       "      <th></th>\n",
       "      <th>nominal</th>\n",
       "      <th>data</th>\n",
       "      <th>curs</th>\n",
       "      <th>cdx</th>\n",
       "    </tr>\n",
       "  </thead>\n",
       "  <tbody>\n",
       "    <tr>\n",
       "      <th>1233</th>\n",
       "      <td>1</td>\n",
       "      <td>2018-11-30</td>\n",
       "      <td>66.6342</td>\n",
       "      <td>Доллар США</td>\n",
       "    </tr>\n",
       "    <tr>\n",
       "      <th>1232</th>\n",
       "      <td>1</td>\n",
       "      <td>2018-12-01</td>\n",
       "      <td>66.5335</td>\n",
       "      <td>Доллар США</td>\n",
       "    </tr>\n",
       "    <tr>\n",
       "      <th>1231</th>\n",
       "      <td>1</td>\n",
       "      <td>2018-12-04</td>\n",
       "      <td>66.2921</td>\n",
       "      <td>Доллар США</td>\n",
       "    </tr>\n",
       "    <tr>\n",
       "      <th>1230</th>\n",
       "      <td>1</td>\n",
       "      <td>2018-12-05</td>\n",
       "      <td>66.4467</td>\n",
       "      <td>Доллар США</td>\n",
       "    </tr>\n",
       "    <tr>\n",
       "      <th>1229</th>\n",
       "      <td>1</td>\n",
       "      <td>2018-12-06</td>\n",
       "      <td>66.8242</td>\n",
       "      <td>Доллар США</td>\n",
       "    </tr>\n",
       "  </tbody>\n",
       "</table>\n",
       "</div>"
      ],
      "text/plain": [
       "      nominal       data     curs         cdx\n",
       "1233        1 2018-11-30  66.6342  Доллар США\n",
       "1232        1 2018-12-01  66.5335  Доллар США\n",
       "1231        1 2018-12-04  66.2921  Доллар США\n",
       "1230        1 2018-12-05  66.4467  Доллар США\n",
       "1229        1 2018-12-06  66.8242  Доллар США"
      ]
     },
     "execution_count": 222,
     "metadata": {},
     "output_type": "execute_result"
    }
   ],
   "source": [
    "usd_rub.sort_values(by = 'data', ascending=True).head()"
   ]
  },
  {
   "cell_type": "markdown",
   "metadata": {},
   "source": [
    "Сгрупируем по месяцам и отсортируем по возрастанию даты"
   ]
  },
  {
   "cell_type": "code",
   "execution_count": 223,
   "metadata": {},
   "outputs": [],
   "source": [
    "usd_rub['month_'] = usd_rub['data'].dt.month\n",
    "usd_rub['year_'] = usd_rub['data'].dt.year\n",
    "new_usd_rub =usd_rub.groupby([\"month_\", \"year_\"])[\"curs\"].mean().reset_index()\n",
    "new_usd_rub.sort_values(by = ['year_', 'month_'], ascending=True, inplace= True)"
   ]
  },
  {
   "cell_type": "markdown",
   "metadata": {},
   "source": [
    "Пстроим графики: курса доллара (зелёный) и ИПЦ (красный). Видно, что пики и спады совпадают (может с небольшим лагом). Ноужно было бы построить модель линейной регрессии ИПЦ к измененению курса доллара. Но времени на выполнение итогово задания мало, а нужно было ещё разобраться, как работать со временем и переворачивать таблички"
   ]
  },
  {
   "cell_type": "code",
   "execution_count": 230,
   "metadata": {},
   "outputs": [
    {
     "data": {
      "image/png": "[encoded data removed]",
      "text/plain": [
       "<Figure size 864x720 with 1 Axes>"
      ]
     },
     "metadata": {
      "needs_background": "light"
     },
     "output_type": "display_data"
    }
   ],
   "source": [
    "new_usd_rub['date'] = new_usd_rub['month_'].map(str)+ '-' +new_usd_rub['year_'].map(str)\n",
    "new_usd_rub['date'] = pd.to_datetime(new_usd_rub['date'], format='%m-%Y')\n",
    "plt.plot_date(new_usd_rub['date'], new_usd_rub['curs'], fmt='-g')\n",
    "\n",
    "plt.show()"
   ]
  },
  {
   "cell_type": "code",
   "execution_count": 225,
   "metadata": {},
   "outputs": [
    {
     "data": {
      "image/png": "[encoded data removed]",
      "text/plain": [
       "<Figure size 864x720 with 1 Axes>"
      ]
     },
     "metadata": {
      "needs_background": "light"
     },
     "output_type": "display_data"
    }
   ],
   "source": [
    "cpi_in_column.dropna(inplace=True, how='any')\n",
    "cpi_in_column['date'] = cpi_in_column['month_'].map(str)+ '-' +cpi_in_column['year_'].map(str)\n",
    "cpi_in_column['date'] = pd.to_datetime(cpi_in_column['date'], format='%m-%Y')\n",
    "fig, ax = plt.subplots()\n",
    "plt.plot_date(cpi_in_column['date'], cpi_in_column['cpi_value'], fmt='-r')\n",
    "plt.show()"
   ]
  },
  {
   "cell_type": "code",
   "execution_count": null,
   "metadata": {},
   "outputs": [],
   "source": []
  }
 ],
 "metadata": {
  "kernelspec": {
   "display_name": "base",
   "language": "python",
   "name": "python3"
  },
  "language_info": {
   "codemirror_mode": {
    "name": "ipython",
    "version": 3
   },
   "file_extension": ".py",
   "mimetype": "text/x-python",
   "name": "python",
   "nbconvert_exporter": "python",
   "pygments_lexer": "ipython3",
   "version": "3.8.3"
  }
 },
 "nbformat": 4,
 "nbformat_minor": 2
}
